{
 "cells": [
  {
   "cell_type": "code",
   "execution_count": 6,
   "id": "52744a7e-44ce-4b85-b829-0fa19ceed234",
   "metadata": {},
   "outputs": [],
   "source": [
    "from llama_cpp import Llama"
   ]
  },
  {
   "cell_type": "code",
   "execution_count": 21,
   "id": "7c246623-82c8-4045-b810-1d32cfcaccce",
   "metadata": {},
   "outputs": [
    {
     "name": "stderr",
     "output_type": "stream",
     "text": [
      "AVX = 1 | AVX2 = 1 | AVX512 = 0 | AVX512_VBMI = 0 | AVX512_VNNI = 0 | FMA = 1 | NEON = 0 | ARM_FMA = 0 | F16C = 1 | FP16_VA = 0 | WASM_SIMD = 0 | BLAS = 0 | SSE3 = 1 | SSSE3 = 0 | VSX = 0 | \n"
     ]
    },
    {
     "name": "stdout",
     "output_type": "stream",
     "text": [
      "CPU times: total: 453 ms\n",
      "Wall time: 644 ms\n"
     ]
    }
   ],
   "source": [
    "%%time\n",
    "llm =Llama(model_path=\"../nsql_ggml-model-q8_0.gguf\")"
   ]
  },
  {
   "cell_type": "code",
   "execution_count": 23,
   "id": "afbb65e4-279b-4ddb-9cf2-eda4f48371c7",
   "metadata": {},
   "outputs": [],
   "source": [
    "text = \"\"\"CREATE TABLE stadium (\n",
    "    stadium_id number,\n",
    "    location text,\n",
    "    name text,\n",
    "    capacity number,\n",
    "    highest number,\n",
    "    lowest number,\n",
    "    average number\n",
    ")\n",
    "\n",
    "CREATE TABLE singer (\n",
    "    singer_id number,\n",
    "    name text,\n",
    "    country text,\n",
    "    song_name text,\n",
    "    song_release_year text,\n",
    "    age number,\n",
    "    is_male others\n",
    ")\n",
    "\n",
    "CREATE TABLE concert (\n",
    "    concert_id number,\n",
    "    concert_name text,\n",
    "    theme text,\n",
    "    stadium_id text,\n",
    "    year text\n",
    ")\n",
    "\n",
    "CREATE TABLE singer_in_concert (\n",
    "    concert_id number,\n",
    "    singer_id text\n",
    ")\n",
    "\n",
    "-- Using valid SQLite, answer the following questions for the tables provided above.\n",
    "\n",
    "-- What is the maximum, the average, and the minimum capacity of stadiums ?\n",
    "\n",
    "SELECT\"\"\""
   ]
  },
  {
   "cell_type": "code",
   "execution_count": 24,
   "id": "74d37502-0cc6-4a12-b34c-a5987a2b341a",
   "metadata": {},
   "outputs": [
    {
     "name": "stdout",
     "output_type": "stream",
     "text": [
      "CPU times: total: 1min 45s\n",
      "Wall time: 26.7 s\n"
     ]
    }
   ],
   "source": [
    "%%time\n",
    "output = llm(text)"
   ]
  },
  {
   "cell_type": "code",
   "execution_count": 26,
   "id": "5cdce6f0-8008-446f-97d1-5e1f26afbf24",
   "metadata": {},
   "outputs": [
    {
     "name": "stdout",
     "output_type": "stream",
     "text": [
      " MAX(capacity), AVG(capacity), MIN(capacity)\n"
     ]
    }
   ],
   "source": [
    "print(output[\"choices\"][0][\"text\"])"
   ]
  },
  {
   "cell_type": "code",
   "execution_count": 27,
   "id": "ce61f4e0-14db-407b-b8ed-15bdcf0ec39e",
   "metadata": {},
   "outputs": [
    {
     "data": {
      "text/plain": [
       "{'id': 'cmpl-d5cfa708-b576-479b-9618-978dd411dcb2',\n",
       " 'object': 'text_completion',\n",
       " 'created': 1698933791,\n",
       " 'model': '../nsql_ggml-model-q8_0.gguf',\n",
       " 'choices': [{'text': ' MAX(capacity), AVG(capacity), MIN(capacity)',\n",
       "   'index': 0,\n",
       "   'logprobs': None,\n",
       "   'finish_reason': 'stop'}],\n",
       " 'usage': {'prompt_tokens': 201, 'completion_tokens': 17, 'total_tokens': 218}}"
      ]
     },
     "execution_count": 27,
     "metadata": {},
     "output_type": "execute_result"
    }
   ],
   "source": [
    "output"
   ]
  },
  {
   "cell_type": "code",
   "execution_count": null,
   "id": "d4c66e26-6238-48fe-8d1c-e469cc15c1ab",
   "metadata": {},
   "outputs": [],
   "source": []
  }
 ],
 "metadata": {
  "kernelspec": {
   "display_name": "Python 3 (ipykernel)",
   "language": "python",
   "name": "python3"
  },
  "language_info": {
   "codemirror_mode": {
    "name": "ipython",
    "version": 3
   },
   "file_extension": ".py",
   "mimetype": "text/x-python",
   "name": "python",
   "nbconvert_exporter": "python",
   "pygments_lexer": "ipython3",
   "version": "3.10.13"
  }
 },
 "nbformat": 4,
 "nbformat_minor": 5
}

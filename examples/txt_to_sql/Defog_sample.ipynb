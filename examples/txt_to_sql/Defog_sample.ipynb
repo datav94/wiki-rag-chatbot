{
 "cells": [
  {
   "cell_type": "code",
   "execution_count": null,
   "id": "2894ff31-f9d0-47cb-8e77-33f9fd433a7e",
   "metadata": {},
   "outputs": [],
   "source": [
    "!pip install torch transformers bitsandbytes accelerate sqlparse"
   ]
  },
  {
   "cell_type": "code",
   "execution_count": 12,
   "id": "7ab42f07-efe0-41e1-9db4-0d73c068b3ac",
   "metadata": {},
   "outputs": [],
   "source": [
    "import torch\n",
    "from transformers import AutoTokenizer, AutoModelForCausalLM, pipeline\n",
    "import time"
   ]
  },
  {
   "cell_type": "code",
   "execution_count": 13,
   "id": "fa303535-8878-473e-9746-1090356d8b5b",
   "metadata": {},
   "outputs": [
    {
     "data": {
      "text/plain": [
       "False"
      ]
     },
     "execution_count": 13,
     "metadata": {},
     "output_type": "execute_result"
    }
   ],
   "source": [
    "torch.cuda.is_available()"
   ]
  },
  {
   "cell_type": "markdown",
   "id": "e7ad5543-4ded-4705-bbd4-3a115e03d467",
   "metadata": {},
   "source": [
    "#### Please note on CPUs only  torch_dtype=torch.bfloat16 works"
   ]
  },
  {
   "cell_type": "code",
   "execution_count": 14,
   "id": "f97a07e8-6320-40a3-974e-a4c435264609",
   "metadata": {},
   "outputs": [
    {
     "name": "stderr",
     "output_type": "stream",
     "text": [
      "Special tokens have been added in the vocabulary, make sure the associated word embeddings are fine-tuned or trained.\n"
     ]
    },
    {
     "data": {
      "application/vnd.jupyter.widget-view+json": {
       "model_id": "3450ccab13cc4c13b311293eff853d5b",
       "version_major": 2,
       "version_minor": 0
      },
      "text/plain": [
       "Loading checkpoint shards:   0%|          | 0/4 [00:00<?, ?it/s]"
      ]
     },
     "metadata": {},
     "output_type": "display_data"
    },
    {
     "name": "stdout",
     "output_type": "stream",
     "text": [
      "CPU times: total: 6min 36s\n",
      "Wall time: 3min 28s\n"
     ]
    }
   ],
   "source": [
    "%%time\n",
    "model_name = \"defog/sqlcoder2\"\n",
    "tokenizer = AutoTokenizer.from_pretrained(model_name)\n",
    "model = AutoModelForCausalLM.from_pretrained(\n",
    "    model_name,\n",
    "    trust_remote_code=True,\n",
    "    torch_dtype=torch.bfloat16,\n",
    "    #load_in_8bit=True,\n",
    "    #load_in_4bit=True,\n",
    "    device_map=\"auto\",\n",
    "    use_cache=True,\n",
    "    offload_folder=\".\"\n",
    ")"
   ]
  },
  {
   "cell_type": "code",
   "execution_count": 15,
   "id": "678b556c-9361-460c-b0b0-e62e3c9ec1ac",
   "metadata": {},
   "outputs": [],
   "source": [
    "question = \"What is our total revenue by product in the last week?\""
   ]
  },
  {
   "cell_type": "markdown",
   "id": "ecad08a1-a483-4885-bfa3-79820338e14c",
   "metadata": {},
   "source": [
    "### The following prompt should be inserted into the question from a VectorDB"
   ]
  },
  {
   "cell_type": "code",
   "execution_count": 16,
   "id": "792f53fa-22e3-4929-87bc-2e2f296c0848",
   "metadata": {},
   "outputs": [],
   "source": [
    "prompt = \"\"\"### Task\n",
    "Generate a SQL query to answer the following question:\n",
    "`{question}`\n",
    "\n",
    "### Database Schema\n",
    "This query will run on a database whose schema is represented in this string:\n",
    "CREATE TABLE products (\n",
    "  product_id INTEGER PRIMARY KEY, -- Unique ID for each product\n",
    "  name VARCHAR(50), -- Name of the product\n",
    "  price DECIMAL(10,2), -- Price of each unit of the product\n",
    "  quantity INTEGER  -- Current quantity in stock\n",
    ");\n",
    "\n",
    "CREATE TABLE customers (\n",
    "   customer_id INTEGER PRIMARY KEY, -- Unique ID for each customer\n",
    "   name VARCHAR(50), -- Name of the customer\n",
    "   address VARCHAR(100) -- Mailing address of the customer\n",
    ");\n",
    "\n",
    "CREATE TABLE salespeople (\n",
    "  salesperson_id INTEGER PRIMARY KEY, -- Unique ID for each salesperson\n",
    "  name VARCHAR(50), -- Name of the salesperson\n",
    "  region VARCHAR(50) -- Geographic sales region\n",
    ");\n",
    "\n",
    "CREATE TABLE sales (\n",
    "  sale_id INTEGER PRIMARY KEY, -- Unique ID for each sale\n",
    "  product_id INTEGER, -- ID of product sold\n",
    "  customer_id INTEGER,  -- ID of customer who made purchase\n",
    "  salesperson_id INTEGER, -- ID of salesperson who made the sale\n",
    "  sale_date DATE, -- Date the sale occurred\n",
    "  quantity INTEGER -- Quantity of product sold\n",
    ");\n",
    "\n",
    "CREATE TABLE product_suppliers (\n",
    "  supplier_id INTEGER PRIMARY KEY, -- Unique ID for each supplier\n",
    "  product_id INTEGER, -- Product ID supplied\n",
    "  supply_price DECIMAL(10,2) -- Unit price charged by supplier\n",
    ");\n",
    "\n",
    "-- sales.product_id can be joined with products.product_id\n",
    "-- sales.customer_id can be joined with customers.customer_id\n",
    "-- sales.salesperson_id can be joined with salespeople.salesperson_id\n",
    "-- product_suppliers.product_id can be joined with products.product_id\n",
    "\n",
    "### SQL\n",
    "Given the database schema, here is the SQL query that answers `{question}`:\n",
    "```sql\n",
    "\"\"\".format(question=question)"
   ]
  },
  {
   "cell_type": "code",
   "execution_count": 17,
   "id": "be01b18c-3afc-4be2-8c1d-49344997af91",
   "metadata": {},
   "outputs": [],
   "source": [
    "eos_token_id = tokenizer.eos_token_id"
   ]
  },
  {
   "cell_type": "code",
   "execution_count": 18,
   "id": "6655895f-6dc6-479e-8cc2-cf546ea7ce9e",
   "metadata": {},
   "outputs": [],
   "source": [
    "inputs = tokenizer(prompt, return_tensors=\"pt\").to(\"cpu\")"
   ]
  },
  {
   "cell_type": "code",
   "execution_count": 19,
   "id": "137fd696-7686-4819-99cc-4d0f2c260e52",
   "metadata": {},
   "outputs": [
    {
     "name": "stdout",
     "output_type": "stream",
     "text": [
      "CPU times: total: 4h 32min 20s\n",
      "Wall time: 1h 52min 43s\n"
     ]
    }
   ],
   "source": [
    "%%time\n",
    "generated_ids = model.generate(\n",
    "    **inputs,\n",
    "    num_return_sequences=1,\n",
    "    eos_token_id=eos_token_id,\n",
    "    pad_token_id=eos_token_id,\n",
    "    max_new_tokens=400,\n",
    "    do_sample=False,\n",
    "    num_beams=5,\n",
    "\n",
    ")"
   ]
  },
  {
   "cell_type": "code",
   "execution_count": 9,
   "id": "875a79af-1466-4159-aa9e-ddfb38966587",
   "metadata": {},
   "outputs": [],
   "source": [
    "outputs = tokenizer.batch_decode(generated_ids, skip_special_tokens=True)"
   ]
  },
  {
   "cell_type": "code",
   "execution_count": 10,
   "id": "009985d7-2e7d-4e2b-a2f8-4c86ce8c7094",
   "metadata": {},
   "outputs": [],
   "source": [
    "import sqlparse"
   ]
  },
  {
   "cell_type": "code",
   "execution_count": 11,
   "id": "8f1afcac-204a-4b51-8d8e-779e31ac006a",
   "metadata": {},
   "outputs": [
    {
     "name": "stdout",
     "output_type": "stream",
     "text": [
      "\n",
      "SELECT p.name AS product_name,\n",
      "       SUM(s.quantity * ps.supply_price) AS total_revenue\n",
      "FROM sales s\n",
      "JOIN products p ON s.product_id = p.product_id\n",
      "JOIN product_suppliers ps ON p.product_id = ps.product_id\n",
      "WHERE s.sale_date >= (CURRENT_DATE - interval '1 week')\n",
      "GROUP BY p.name;\n"
     ]
    }
   ],
   "source": [
    "print(sqlparse.format(outputs[0].split(\"```sql\")[-1], reindent=True))"
   ]
  },
  {
   "cell_type": "code",
   "execution_count": null,
   "id": "01c53f90-0d06-4696-855e-06c7b2eeab14",
   "metadata": {},
   "outputs": [],
   "source": []
  }
 ],
 "metadata": {
  "kernelspec": {
   "display_name": "Python 3 (ipykernel)",
   "language": "python",
   "name": "python3"
  },
  "language_info": {
   "codemirror_mode": {
    "name": "ipython",
    "version": 3
   },
   "file_extension": ".py",
   "mimetype": "text/x-python",
   "name": "python",
   "nbconvert_exporter": "python",
   "pygments_lexer": "ipython3",
   "version": "3.10.13"
  }
 },
 "nbformat": 4,
 "nbformat_minor": 5
}

{
 "cells": [
  {
   "cell_type": "code",
   "execution_count": 1,
   "id": "70623da2-98cb-432a-9757-ff2fe115ca28",
   "metadata": {},
   "outputs": [],
   "source": [
    "from llama_cpp import Llama"
   ]
  },
  {
   "cell_type": "code",
   "execution_count": 2,
   "id": "c961a2a0-fdfa-4aa9-ad02-907f27e47925",
   "metadata": {},
   "outputs": [
    {
     "name": "stderr",
     "output_type": "stream",
     "text": [
      "AVX = 1 | AVX2 = 1 | AVX512 = 0 | AVX512_VBMI = 0 | AVX512_VNNI = 0 | FMA = 1 | NEON = 0 | ARM_FMA = 0 | F16C = 1 | FP16_VA = 0 | WASM_SIMD = 0 | BLAS = 0 | SSE3 = 1 | SSSE3 = 0 | VSX = 0 | \n"
     ]
    }
   ],
   "source": [
    "llm =Llama(model_path=\"../ggml-model-q8_0.gguf\")"
   ]
  },
  {
   "cell_type": "code",
   "execution_count": 20,
   "id": "01838f51-6c3f-40cc-a12b-00febf83b414",
   "metadata": {},
   "outputs": [
    {
     "name": "stderr",
     "output_type": "stream",
     "text": [
      "Llama.generate: prefix-match hit\n"
     ]
    },
    {
     "name": "stdout",
     "output_type": "stream",
     "text": [
      "CPU times: total: 7min 13s\n",
      "Wall time: 1min 53s\n"
     ]
    }
   ],
   "source": [
    "%%time\n",
    "output = llm(\"def minspanningtree(arr\", max_tokens=512)"
   ]
  },
  {
   "cell_type": "code",
   "execution_count": 21,
   "id": "01f23e6a-f079-4b61-913b-facb7945066a",
   "metadata": {},
   "outputs": [
    {
     "name": "stdout",
     "output_type": "stream",
     "text": [
      ",N):\n",
      "    parent=[-1]*N\n",
      "    \n",
      "    def findparent(u):\n",
      "        if parent[u]==-1:\n",
      "            return u\n",
      "        else:\n",
      "            parent[u]=findparent(parent[u])\n",
      "            return parent[u]\n",
      "\n",
      "    def union_set(x,y):\n",
      "        \n",
      "        xroot=findparent(x)\n",
      "        yroot=findparent(y)\n",
      "\n",
      "        if xroot!=yroot:\n",
      "            parent[xroot]=yroot\n",
      "    \n",
      "    for i in range(len(arr)):\n",
      "        union_set(arr[i][0],arr[i][1])\n",
      "        \n",
      "            \n",
      "    return parent\n",
      "\n",
      "def findcost(parent):\n",
      "    cost=0\n",
      "    node=[]\n",
      "    for i in range(N):\n",
      "        node.append(-1)\n",
      "    \n",
      "    for i in range(len(parent)):\n",
      "        x=findparent(i)\n",
      "        \n",
      "        if node[x]==-1:\n",
      "            node[x]=1\n",
      "        else:\n",
      "            node[x]+=1\n",
      "            \n",
      "    print(node)\n",
      "    for i in range(len(parent)):\n",
      "        cost+=(2**node[findparent(i)])\n",
      "        \n",
      "    return cost\n",
      "    \n",
      "t=int(input())\n",
      "for i in range(t):\n",
      "    N,E=map(int,input().split())\n",
      "    arr=[]\n",
      "    for i in range(E):\n",
      "        u,v,w=map(int,input().split())\n",
      "        arr.append([u,v,w])\n",
      "        \n",
      "    #print(arr)\n",
      "    \n",
      "    parent=minspanningtree(arr,N)\n",
      "    print(findcost(parent))\n",
      "\n"
     ]
    }
   ],
   "source": [
    "print(output[\"choices\"][0][\"text\"])\n"
   ]
  },
  {
   "cell_type": "code",
   "execution_count": null,
   "id": "bdb9fae1-4089-4096-b065-e999f1691a27",
   "metadata": {},
   "outputs": [],
   "source": []
  }
 ],
 "metadata": {
  "kernelspec": {
   "display_name": "Python 3 (ipykernel)",
   "language": "python",
   "name": "python3"
  },
  "language_info": {
   "codemirror_mode": {
    "name": "ipython",
    "version": 3
   },
   "file_extension": ".py",
   "mimetype": "text/x-python",
   "name": "python",
   "nbconvert_exporter": "python",
   "pygments_lexer": "ipython3",
   "version": "3.10.13"
  }
 },
 "nbformat": 4,
 "nbformat_minor": 5
}

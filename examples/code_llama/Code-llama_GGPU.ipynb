{
 "cells": [
  {
   "cell_type": "code",
   "execution_count": 1,
   "id": "70623da2-98cb-432a-9757-ff2fe115ca28",
   "metadata": {},
   "outputs": [],
   "source": [
    "from llama_cpp import Llama"
   ]
  },
  {
   "cell_type": "code",
   "execution_count": 2,
   "id": "c961a2a0-fdfa-4aa9-ad02-907f27e47925",
   "metadata": {},
   "outputs": [
    {
     "name": "stdout",
     "output_type": "stream",
     "text": [
      "CPU times: total: 93.8 ms\n",
      "Wall time: 347 ms\n"
     ]
    },
    {
     "name": "stderr",
     "output_type": "stream",
     "text": [
      "AVX = 1 | AVX2 = 1 | AVX512 = 0 | AVX512_VBMI = 0 | AVX512_VNNI = 0 | FMA = 1 | NEON = 0 | ARM_FMA = 0 | F16C = 1 | FP16_VA = 0 | WASM_SIMD = 0 | BLAS = 0 | SSE3 = 1 | SSSE3 = 0 | VSX = 0 | \n"
     ]
    }
   ],
   "source": [
    "%%time\n",
    "llm =Llama(model_path=\"../ggml-model-q8_0.gguf\")"
   ]
  },
  {
   "cell_type": "code",
   "execution_count": 3,
   "id": "01838f51-6c3f-40cc-a12b-00febf83b414",
   "metadata": {},
   "outputs": [
    {
     "name": "stdout",
     "output_type": "stream",
     "text": [
      "CPU times: total: 3min 4s\n",
      "Wall time: 48.7 s\n"
     ]
    }
   ],
   "source": [
    "%%time\n",
    "output = llm(\"def minspanningtree(arr \", max_tokens=512)"
   ]
  },
  {
   "cell_type": "code",
   "execution_count": 4,
   "id": "01f23e6a-f079-4b61-913b-facb7945066a",
   "metadata": {},
   "outputs": [
    {
     "name": "stdout",
     "output_type": "stream",
     "text": [
      "):\n",
      "    arr.sort() #sorting edge by weight (lowest to highest)\n",
      "    tree = []\n",
      "    visited = [] #keep track of nodes we have already visited\n",
      "    for i in range(len(arr)):\n",
      "        if arr[i][0] not in visited:\n",
      "            visited.append(arr[i][0])\n",
      "            visited.append(arr[i][1]) \n",
      "            tree.append(arr[i]) #adding the edge to our spanning tree  \n",
      "    return tree\n",
      "\n"
     ]
    }
   ],
   "source": [
    "print(output[\"choices\"][0][\"text\"])\n"
   ]
  },
  {
   "cell_type": "code",
   "execution_count": 5,
   "id": "bdb9fae1-4089-4096-b065-e999f1691a27",
   "metadata": {},
   "outputs": [
    {
     "name": "stderr",
     "output_type": "stream",
     "text": [
      "Llama.generate: prefix-match hit\n",
      "\n",
      "KeyboardInterrupt\n",
      "\n"
     ]
    }
   ],
   "source": [
    "%%time\n",
    "output = llm(\"def quicksort(arr\", max_tokens=512)"
   ]
  },
  {
   "cell_type": "code",
   "execution_count": 6,
   "id": "af4a32fd-4ef8-4457-8139-629af168f262",
   "metadata": {},
   "outputs": [
    {
     "name": "stdout",
     "output_type": "stream",
     "text": [
      ", first, last):\n",
      "    if first < last:\n",
      "        split_point = partition(arr, first, last)\n",
      "        quicksort(arr, first, split_point-1)\n",
      "        quicksort(arr, split_point+1, last)\n",
      "    return arr\n",
      "\n",
      "def partition(arr,first,last):\n",
      "    pivotvalue=arr[first]\n",
      "    left=first+1\n",
      "    right=last\n",
      "    done=False\n",
      "    while not done:\n",
      "        while left <= right and arr[left] >= pivotvalue:\n",
      "            left = left + 1\n",
      "        while arr[right] <= pivotvalue and right >=left:\n",
      "            right = right -1\n",
      "        \n",
      "        if right < left:\n",
      "            done=True\n",
      "        else:\n",
      "            temp = arr[left]\n",
      "            arr[left]=arr[right]\n",
      "            arr[right]=temp\n",
      "    \n",
      "    temp = arr[first]\n",
      "    arr[first]=arr[right]\n",
      "    arr[right]=temp\n",
      "    return right\n",
      "\n"
     ]
    }
   ],
   "source": [
    "print(output[\"choices\"][0][\"text\"])"
   ]
  },
  {
   "cell_type": "code",
   "execution_count": null,
   "id": "20c386ab-d9c8-4c98-b7a5-b4cf55f11282",
   "metadata": {},
   "outputs": [],
   "source": []
  }
 ],
 "metadata": {
  "kernelspec": {
   "display_name": "Python 3 (ipykernel)",
   "language": "python",
   "name": "python3"
  },
  "language_info": {
   "codemirror_mode": {
    "name": "ipython",
    "version": 3
   },
   "file_extension": ".py",
   "mimetype": "text/x-python",
   "name": "python",
   "nbconvert_exporter": "python",
   "pygments_lexer": "ipython3",
   "version": "3.10.13"
  }
 },
 "nbformat": 4,
 "nbformat_minor": 5
}

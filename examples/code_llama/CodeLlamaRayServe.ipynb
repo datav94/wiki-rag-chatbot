{
 "cells": [
  {
   "cell_type": "markdown",
   "id": "2a5e0e58-d63b-4be3-9269-9c8acbb85321",
   "metadata": {},
   "source": [
    "### Run the service locally\n",
    "serve run  llama_7b:gen_code_app"
   ]
  },
  {
   "cell_type": "code",
   "execution_count": 2,
   "id": "7041110e-0247-45e1-97ae-9978700c5dd2",
   "metadata": {},
   "outputs": [
    {
     "name": "stdout",
     "output_type": "stream",
     "text": [
      "):\n",
      "    n=len(arr) # length of array\n",
      "\n",
      "\n",
      "    visited=[False for i in range(n)] # to keep track which nodes are selected so far\n",
      "\n",
      "    # make a list of tuples with all edges and their weight\n",
      "    edges=[]\n",
      "    for i in range(n):\n",
      "        for j in range(i+1, n):\n",
      "            edges.append((arr[i][j],i,j))  # first element is the weight and next two are x,y coordinates of vertices\n",
      "\n",
      "    # find a minimum weight edge from not visited nodes\n",
      "    min_weight=9999\n",
      "    for k in range(len(edges)):\n",
      "        if edges[k][1]!=edges[k][2] and visited[edges[k][1]]==False or visited[edges[k][2]]==False:\n",
      "            if min_weight>edges[k][0]:\n",
      "                u=edges[k][1] # x vertex of the edge\n",
      "                v=edges[k][2] # y vertex of the edge\n",
      "                min_weight=edges[k][0]\n",
      "    visited[u]=True # marking selected node True\n",
      "    visited[v]=True  # marking selected node True\n",
      "    mst.append(min_weight) # append weight of edge to mst array\n",
      "    total+=min_weight # adding the edge weight to total cost\n",
      "\n",
      "    # recursive call for other nodes\n",
      "    minspanningtree(arr, visited)\n"
     ]
    }
   ],
   "source": [
    "# File name: model_client.py\n",
    "import requests\n",
    "\n",
    "response = requests.post(\"http://127.0.0.1:8000/\", params={\"text\": \"def minspanningtree(arr \"})\n",
    "res = response.json()\n",
    "\n",
    "print(res)"
   ]
  },
  {
   "cell_type": "code",
   "execution_count": null,
   "id": "e62cc3a5-2a67-4a27-92a5-b8c1b9b277f4",
   "metadata": {},
   "outputs": [],
   "source": []
  }
 ],
 "metadata": {
  "kernelspec": {
   "display_name": "Python 3 (ipykernel)",
   "language": "python",
   "name": "python3"
  },
  "language_info": {
   "codemirror_mode": {
    "name": "ipython",
    "version": 3
   },
   "file_extension": ".py",
   "mimetype": "text/x-python",
   "name": "python",
   "nbconvert_exporter": "python",
   "pygments_lexer": "ipython3",
   "version": "3.10.13"
  }
 },
 "nbformat": 4,
 "nbformat_minor": 5
}

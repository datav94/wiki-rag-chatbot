{
 "cells": [
  {
   "cell_type": "code",
   "execution_count": 17,
   "metadata": {},
   "outputs": [
    {
     "name": "stdout",
     "output_type": "stream",
     "text": [
      "Response Content: \"SELECT UserID,\\n       COUNT(*) AS ReviewCount\\nFROM Reviews\\nGROUP BY UserID\\nORDER BY ReviewCount DESC\\nLIMIT 5\"\n"
     ]
    }
   ],
   "source": [
    "import requests\n",
    "url = \"https://dev.eu.ude.cariad.digital/nli/translate\"\n",
    "\n",
    "query = {\"query\": \"Top 5 users with most reviews\"}\n",
    "\n",
    "response = requests.post(url, json=query)\n",
    "\n",
    "print(\"Response Content:\", response.text)"
   ]
  }
 ],
 "metadata": {
  "kernelspec": {
   "display_name": "base",
   "language": "python",
   "name": "python3"
  },
  "language_info": {
   "codemirror_mode": {
    "name": "ipython",
    "version": 3
   },
   "file_extension": ".py",
   "mimetype": "text/x-python",
   "name": "python",
   "nbconvert_exporter": "python",
   "pygments_lexer": "ipython3",
   "version": "3.10.9"
  }
 },
 "nbformat": 4,
 "nbformat_minor": 2
}
